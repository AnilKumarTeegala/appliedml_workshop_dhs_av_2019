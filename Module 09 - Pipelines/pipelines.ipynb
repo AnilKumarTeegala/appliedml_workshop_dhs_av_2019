{
 "cells": [
  {
   "cell_type": "markdown",
   "metadata": {},
   "source": [
    "# Sklearn : Pipelines"
   ]
  },
  {
   "cell_type": "markdown",
   "metadata": {},
   "source": [
    "<img src=\"assets/pipes.jpg\" width=\"1000\">\n",
    "Source: https://eponline.com/articles/2019/04/19/-/media/ENV/eponline/Images/2019/09/LeadPipesFoundAroundCountry.jpg"
   ]
  },
  {
   "cell_type": "markdown",
   "metadata": {
    "heading_collapsed": true
   },
   "source": [
    "## The Sklearn API Design"
   ]
  },
  {
   "cell_type": "markdown",
   "metadata": {
    "hidden": true
   },
   "source": [
    "<img src=\"assets/ml_map.png\">\n",
    "\n",
    "Image Source: \n",
    "[Sklearn Tutorials](https://scikit-learn.org/stable/tutorial/machine_learning_map/index.html)"
   ]
  },
  {
   "cell_type": "markdown",
   "metadata": {
    "hidden": true
   },
   "source": [
    "### Design Principles"
   ]
  },
  {
   "cell_type": "markdown",
   "metadata": {
    "hidden": true
   },
   "source": [
    "The [Scikit-Learn API paper](http://arxiv.org/abs/1309.0238) outlines its design principles as:\n",
    "\n",
    "+ __Consistency__: All objects share a common interface drawn from a limited set of methods, with consistent documentation.\n",
    "\n",
    "+ __Inspection__: All specified parameter values are exposed as public attributes.\n",
    "\n",
    "+ __Limited object hierarchy__: Only algorithms are represented by Python classes; datasets are represented in standard formats (```NumPy``` arrays, ```Pandas``` DataFrames, ```SciPy``` sparse matrices) and parameter names use standard Python strings.\n",
    "\n",
    "+ __Composition__: Many machine learning tasks can be expressed as sequences of more fundamental algorithms, and Scikit-Learn makes use of this wherever possible.\n",
    "\n",
    "+ __Sensible defaults__: When models require user-specified parameters, the library defines an appropriate default value."
   ]
  },
  {
   "cell_type": "markdown",
   "metadata": {
    "hidden": true
   },
   "source": [
    "### API Usage"
   ]
  },
  {
   "cell_type": "markdown",
   "metadata": {
    "hidden": true
   },
   "source": [
    "<img src=\"assets/estimator-api.png\">\n",
    "Source: http://pages.stat.wisc.edu/~sraschka/teaching/stat479-fs2018/"
   ]
  },
  {
   "cell_type": "markdown",
   "metadata": {
    "hidden": true
   },
   "source": [
    "The ```Scikit-Learn``` estimator API is used as follows (we have seen multiple examples in the modules so far):\n",
    "\n",
    "+ Select a class of models by importing the appropriate estimator class from ```scikit-learn```.\n",
    "+ Select a model and set its hyperparameters by instantiating this class with desired values.\n",
    "+ Arrange data into a features matrix and a target vector.\n",
    "+ Use the ```fit()``` method from the model instance on your data.\n",
    "\n",
    "+ Apply the Model to new data, i.e. for evaluation (test sets) or new unseen data in production. This is done using ```predict()``` method from the model instance"
   ]
  },
  {
   "cell_type": "markdown",
   "metadata": {
    "heading_collapsed": true
   },
   "source": [
    "## Why Pipelines?"
   ]
  },
  {
   "cell_type": "markdown",
   "metadata": {
    "hidden": true
   },
   "source": [
    "Scikit-learn pipelines are a tool to simplify the modeling process. They have several key benefits:\n",
    "+ Workflows become much easier to read and understand.\n",
    "+ They help to enforce the implementation and order of steps in the current setting.\n",
    "+ Helps in preparing models/results which are reproducible."
   ]
  },
  {
   "cell_type": "markdown",
   "metadata": {
    "hidden": true
   },
   "source": [
    "<img src=\"assets/sklearn-pipeline.png\">\n",
    "Source: http://pages.stat.wisc.edu/~sraschka/teaching/stat479-fs2018/"
   ]
  },
  {
   "cell_type": "markdown",
   "metadata": {
    "heading_collapsed": true
   },
   "source": [
    "## Hands-on with Pipelines"
   ]
  },
  {
   "cell_type": "code",
   "execution_count": 1,
   "metadata": {
    "ExecuteTime": {
     "end_time": "2019-11-10T07:34:17.073044Z",
     "start_time": "2019-11-10T07:34:15.506718Z"
    },
    "hidden": true
   },
   "outputs": [],
   "source": [
    "from sklearn.model_selection import train_test_split,GridSearchCV\n",
    "from sklearn.preprocessing import StandardScaler\n",
    "from sklearn.pipeline import make_pipeline\n",
    "from sklearn.datasets import load_iris\n",
    "from sklearn.linear_model import LogisticRegression"
   ]
  },
  {
   "cell_type": "code",
   "execution_count": 2,
   "metadata": {
    "ExecuteTime": {
     "end_time": "2019-11-10T07:34:17.085738Z",
     "start_time": "2019-11-10T07:34:17.075468Z"
    },
    "hidden": true
   },
   "outputs": [],
   "source": [
    "iris = load_iris()\n",
    "X, y = iris.data, iris.target\n",
    "\n",
    "# train test split\n",
    "X_train, X_test, y_train, y_test = train_test_split(X, y,\n",
    "                                        test_size=0.2, shuffle=True,\n",
    "                                        random_state=42, stratify=y)"
   ]
  },
  {
   "cell_type": "code",
   "execution_count": 3,
   "metadata": {
    "ExecuteTime": {
     "end_time": "2019-11-10T07:34:17.094053Z",
     "start_time": "2019-11-10T07:34:17.089107Z"
    },
    "hidden": true
   },
   "outputs": [],
   "source": [
    "# prepare pipeline\n",
    "pipe = make_pipeline(StandardScaler(),\n",
    "                     LogisticRegression(multi_class='ovr',solver='lbfgs'))"
   ]
  },
  {
   "cell_type": "code",
   "execution_count": 4,
   "metadata": {
    "ExecuteTime": {
     "end_time": "2019-11-10T07:34:17.339839Z",
     "start_time": "2019-11-10T07:34:17.097420Z"
    },
    "hidden": true
   },
   "outputs": [
    {
     "data": {
      "text/plain": [
       "Pipeline(memory=None,\n",
       "     steps=[('standardscaler', StandardScaler(copy=True, with_mean=True, with_std=True)), ('logisticregression', LogisticRegression(C=1.0, class_weight=None, dual=False, fit_intercept=True,\n",
       "          intercept_scaling=1, max_iter=100, multi_class='ovr',\n",
       "          n_jobs=None, penalty='l2', random_state=None, solver='lbfgs',\n",
       "          tol=0.0001, verbose=0, warm_start=False))])"
      ]
     },
     "execution_count": 4,
     "metadata": {},
     "output_type": "execute_result"
    }
   ],
   "source": [
    "pipe.fit(X_train, y_train)"
   ]
  },
  {
   "cell_type": "code",
   "execution_count": 5,
   "metadata": {
    "ExecuteTime": {
     "end_time": "2019-11-10T07:34:17.348492Z",
     "start_time": "2019-11-10T07:34:17.344012Z"
    },
    "hidden": true
   },
   "outputs": [],
   "source": [
    "y_pred = pipe.predict(X_test)"
   ]
  },
  {
   "cell_type": "code",
   "execution_count": 6,
   "metadata": {
    "ExecuteTime": {
     "end_time": "2019-11-10T07:34:17.816640Z",
     "start_time": "2019-11-10T07:34:17.352854Z"
    },
    "hidden": true
   },
   "outputs": [
    {
     "name": "stdout",
     "output_type": "stream",
     "text": [
      "              precision    recall  f1-score   support\n",
      "\n",
      "           0       1.00      1.00      1.00        10\n",
      "           1       0.89      0.80      0.84        10\n",
      "           2       0.82      0.90      0.86        10\n",
      "\n",
      "   micro avg       0.90      0.90      0.90        30\n",
      "   macro avg       0.90      0.90      0.90        30\n",
      "weighted avg       0.90      0.90      0.90        30\n",
      "\n"
     ]
    }
   ],
   "source": [
    "from sklearn.metrics import classification_report, accuracy_score, precision_score, recall_score\n",
    "from sklearn.metrics import f1_score, roc_auc_score\n",
    "import pandas as pd\n",
    "\n",
    "cr = classification_report(y_test, y_pred)\n",
    "print(cr)"
   ]
  },
  {
   "cell_type": "code",
   "execution_count": 7,
   "metadata": {
    "ExecuteTime": {
     "end_time": "2019-11-10T07:34:17.838144Z",
     "start_time": "2019-11-10T07:34:17.818255Z"
    },
    "hidden": true
   },
   "outputs": [
    {
     "data": {
      "text/html": [
       "<div>\n",
       "<style scoped>\n",
       "    .dataframe tbody tr th:only-of-type {\n",
       "        vertical-align: middle;\n",
       "    }\n",
       "\n",
       "    .dataframe tbody tr th {\n",
       "        vertical-align: top;\n",
       "    }\n",
       "\n",
       "    .dataframe thead th {\n",
       "        text-align: right;\n",
       "    }\n",
       "</style>\n",
       "<table border=\"1\" class=\"dataframe\">\n",
       "  <thead>\n",
       "    <tr style=\"text-align: right;\">\n",
       "      <th></th>\n",
       "      <th>accuracy</th>\n",
       "      <th>precision</th>\n",
       "      <th>recall</th>\n",
       "      <th>f1</th>\n",
       "    </tr>\n",
       "  </thead>\n",
       "  <tbody>\n",
       "    <tr>\n",
       "      <th>0</th>\n",
       "      <td>0.9</td>\n",
       "      <td>0.902357</td>\n",
       "      <td>0.9</td>\n",
       "      <td>0.899749</td>\n",
       "    </tr>\n",
       "  </tbody>\n",
       "</table>\n",
       "</div>"
      ],
      "text/plain": [
       "   accuracy  precision  recall        f1\n",
       "0       0.9   0.902357     0.9  0.899749"
      ]
     },
     "execution_count": 7,
     "metadata": {},
     "output_type": "execute_result"
    }
   ],
   "source": [
    "score_df = pd.DataFrame({'accuracy': accuracy_score(y_test, y_pred),\n",
    "                         'precision': precision_score(y_test, y_pred,average='weighted'),\n",
    "                         'recall': recall_score(y_test, y_pred,average='weighted'),\n",
    "                         'f1': f1_score(y_test, y_pred,average='weighted')},\n",
    "                         index=pd.Index([0]))\n",
    "\n",
    "score_df"
   ]
  },
  {
   "cell_type": "code",
   "execution_count": null,
   "metadata": {
    "hidden": true
   },
   "outputs": [],
   "source": []
  }
 ],
 "metadata": {
  "kernelspec": {
   "display_name": "Python 3",
   "language": "python",
   "name": "python3"
  },
  "language_info": {
   "codemirror_mode": {
    "name": "ipython",
    "version": 3
   },
   "file_extension": ".py",
   "mimetype": "text/x-python",
   "name": "python",
   "nbconvert_exporter": "python",
   "pygments_lexer": "ipython3",
   "version": "3.6.8"
  }
 },
 "nbformat": 4,
 "nbformat_minor": 2
}
